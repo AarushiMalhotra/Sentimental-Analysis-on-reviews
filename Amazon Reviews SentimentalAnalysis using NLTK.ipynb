{
 "cells": [
  {
   "cell_type": "code",
   "execution_count": 1,
   "metadata": {},
   "outputs": [],
   "source": [
    "import numpy as np\n",
    "import pandas as pd\n",
    "import matplotlib.pyplot as plt\n",
    "%matplotlib inline\n",
    "from sklearn.utils import shuffle\n"
   ]
  },
  {
   "cell_type": "code",
   "execution_count": 2,
   "metadata": {},
   "outputs": [
    {
     "name": "stdout",
     "output_type": "stream",
     "text": [
      "Collecting nltk\n",
      "  Downloading https://files.pythonhosted.org/packages/6f/ed/9c755d357d33bc1931e157f537721efb5b88d2c583fe593cc09603076cc3/nltk-3.4.zip (1.4MB)\n",
      "Requirement already satisfied: six in c:\\users\\dell\\appdata\\local\\programs\\python\\python36\\lib\\site-packages (from nltk) (1.12.0)\n",
      "Collecting singledispatch (from nltk)\n",
      "  Downloading https://files.pythonhosted.org/packages/c5/10/369f50bcd4621b263927b0a1519987a04383d4a98fb10438042ad410cf88/singledispatch-3.4.0.3-py2.py3-none-any.whl\n",
      "Building wheels for collected packages: nltk\n",
      "  Running setup.py bdist_wheel for nltk: started\n",
      "  Running setup.py bdist_wheel for nltk: finished with status 'done'\n",
      "  Stored in directory: C:\\Users\\Dell\\AppData\\Local\\pip\\Cache\\wheels\\4b\\c8\\24\\b2343664bcceb7147efeb21c0b23703a05b23fcfeaceaa2a1e\n",
      "Successfully built nltk\n",
      "Installing collected packages: singledispatch, nltk\n",
      "Successfully installed nltk-3.4 singledispatch-3.4.0.3\n"
     ]
    },
    {
     "name": "stderr",
     "output_type": "stream",
     "text": [
      "You are using pip version 10.0.1, however version 18.1 is available.\n",
      "You should consider upgrading via the 'python -m pip install --upgrade pip' command.\n"
     ]
    }
   ],
   "source": [
    "!pip install nltk"
   ]
  },
  {
   "cell_type": "code",
   "execution_count": 2,
   "metadata": {},
   "outputs": [],
   "source": [
    "import nltk"
   ]
  },
  {
   "cell_type": "code",
   "execution_count": 3,
   "metadata": {},
   "outputs": [],
   "source": [
    "data = pd.read_csv(\"E:/Amazon_Unlocked_Mobile.csv\")"
   ]
  },
  {
   "cell_type": "code",
   "execution_count": 4,
   "metadata": {},
   "outputs": [
    {
     "data": {
      "text/html": [
       "<div>\n",
       "<style scoped>\n",
       "    .dataframe tbody tr th:only-of-type {\n",
       "        vertical-align: middle;\n",
       "    }\n",
       "\n",
       "    .dataframe tbody tr th {\n",
       "        vertical-align: top;\n",
       "    }\n",
       "\n",
       "    .dataframe thead th {\n",
       "        text-align: right;\n",
       "    }\n",
       "</style>\n",
       "<table border=\"1\" class=\"dataframe\">\n",
       "  <thead>\n",
       "    <tr style=\"text-align: right;\">\n",
       "      <th></th>\n",
       "      <th>Product Name</th>\n",
       "      <th>Brand Name</th>\n",
       "      <th>Price</th>\n",
       "      <th>Rating</th>\n",
       "      <th>Reviews</th>\n",
       "      <th>Review Votes</th>\n",
       "    </tr>\n",
       "  </thead>\n",
       "  <tbody>\n",
       "    <tr>\n",
       "      <th>0</th>\n",
       "      <td>\"CLEAR CLEAN ESN\" Sprint EPIC 4G Galaxy SPH-D7...</td>\n",
       "      <td>Samsung</td>\n",
       "      <td>199.99</td>\n",
       "      <td>5</td>\n",
       "      <td>I feel so LUCKY to have found this used (phone...</td>\n",
       "      <td>1.0</td>\n",
       "    </tr>\n",
       "    <tr>\n",
       "      <th>1</th>\n",
       "      <td>\"CLEAR CLEAN ESN\" Sprint EPIC 4G Galaxy SPH-D7...</td>\n",
       "      <td>Samsung</td>\n",
       "      <td>199.99</td>\n",
       "      <td>4</td>\n",
       "      <td>nice phone, nice up grade from my pantach revu...</td>\n",
       "      <td>0.0</td>\n",
       "    </tr>\n",
       "    <tr>\n",
       "      <th>2</th>\n",
       "      <td>\"CLEAR CLEAN ESN\" Sprint EPIC 4G Galaxy SPH-D7...</td>\n",
       "      <td>Samsung</td>\n",
       "      <td>199.99</td>\n",
       "      <td>5</td>\n",
       "      <td>Very pleased</td>\n",
       "      <td>0.0</td>\n",
       "    </tr>\n",
       "    <tr>\n",
       "      <th>3</th>\n",
       "      <td>\"CLEAR CLEAN ESN\" Sprint EPIC 4G Galaxy SPH-D7...</td>\n",
       "      <td>Samsung</td>\n",
       "      <td>199.99</td>\n",
       "      <td>4</td>\n",
       "      <td>It works good but it goes slow sometimes but i...</td>\n",
       "      <td>0.0</td>\n",
       "    </tr>\n",
       "    <tr>\n",
       "      <th>4</th>\n",
       "      <td>\"CLEAR CLEAN ESN\" Sprint EPIC 4G Galaxy SPH-D7...</td>\n",
       "      <td>Samsung</td>\n",
       "      <td>199.99</td>\n",
       "      <td>4</td>\n",
       "      <td>Great phone to replace my lost phone. The only...</td>\n",
       "      <td>0.0</td>\n",
       "    </tr>\n",
       "  </tbody>\n",
       "</table>\n",
       "</div>"
      ],
      "text/plain": [
       "                                        Product Name Brand Name   Price  \\\n",
       "0  \"CLEAR CLEAN ESN\" Sprint EPIC 4G Galaxy SPH-D7...    Samsung  199.99   \n",
       "1  \"CLEAR CLEAN ESN\" Sprint EPIC 4G Galaxy SPH-D7...    Samsung  199.99   \n",
       "2  \"CLEAR CLEAN ESN\" Sprint EPIC 4G Galaxy SPH-D7...    Samsung  199.99   \n",
       "3  \"CLEAR CLEAN ESN\" Sprint EPIC 4G Galaxy SPH-D7...    Samsung  199.99   \n",
       "4  \"CLEAR CLEAN ESN\" Sprint EPIC 4G Galaxy SPH-D7...    Samsung  199.99   \n",
       "\n",
       "   Rating                                            Reviews  Review Votes  \n",
       "0       5  I feel so LUCKY to have found this used (phone...           1.0  \n",
       "1       4  nice phone, nice up grade from my pantach revu...           0.0  \n",
       "2       5                                       Very pleased           0.0  \n",
       "3       4  It works good but it goes slow sometimes but i...           0.0  \n",
       "4       4  Great phone to replace my lost phone. The only...           0.0  "
      ]
     },
     "execution_count": 4,
     "metadata": {},
     "output_type": "execute_result"
    }
   ],
   "source": [
    "data.head()"
   ]
  },
  {
   "cell_type": "markdown",
   "metadata": {},
   "source": [
    "# Exploring Data"
   ]
  },
  {
   "cell_type": "code",
   "execution_count": 5,
   "metadata": {},
   "outputs": [
    {
     "data": {
      "text/plain": [
       "(413840, 6)"
      ]
     },
     "execution_count": 5,
     "metadata": {},
     "output_type": "execute_result"
    }
   ],
   "source": [
    "data.shape"
   ]
  },
  {
   "cell_type": "code",
   "execution_count": 6,
   "metadata": {},
   "outputs": [
    {
     "data": {
      "text/plain": [
       "Product Name        0\n",
       "Brand Name      65171\n",
       "Price            5933\n",
       "Rating              0\n",
       "Reviews            62\n",
       "Review Votes    12296\n",
       "dtype: int64"
      ]
     },
     "execution_count": 6,
     "metadata": {},
     "output_type": "execute_result"
    }
   ],
   "source": [
    "data.isna().sum()"
   ]
  },
  {
   "cell_type": "code",
   "execution_count": 7,
   "metadata": {},
   "outputs": [
    {
     "data": {
      "text/plain": [
       "Index(['Product Name', 'Brand Name', 'Price', 'Rating', 'Reviews',\n",
       "       'Review Votes'],\n",
       "      dtype='object')"
      ]
     },
     "execution_count": 7,
     "metadata": {},
     "output_type": "execute_result"
    }
   ],
   "source": [
    "data.columns"
   ]
  },
  {
   "cell_type": "code",
   "execution_count": 8,
   "metadata": {},
   "outputs": [],
   "source": [
    "product_name = []\n",
    "for i in data[\"Product Name\"]:\n",
    "    if (i in product_name):\n",
    "        continue\n",
    "    else:\n",
    "        product_name.append(i)"
   ]
  },
  {
   "cell_type": "code",
   "execution_count": 9,
   "metadata": {},
   "outputs": [
    {
     "data": {
      "text/plain": [
       "4410"
      ]
     },
     "execution_count": 9,
     "metadata": {},
     "output_type": "execute_result"
    }
   ],
   "source": [
    "len(product_name)"
   ]
  },
  {
   "cell_type": "code",
   "execution_count": 18,
   "metadata": {},
   "outputs": [],
   "source": [
    "# there are 4410 phone models in this data"
   ]
  },
  {
   "cell_type": "code",
   "execution_count": 10,
   "metadata": {},
   "outputs": [],
   "source": [
    "data[\"Brand Name\"]\n",
    "brands = []\n",
    "for i in data[\"Brand Name\"]:\n",
    "    if (i in brands):\n",
    "        continue\n",
    "    else:\n",
    "        brands.append(i)"
   ]
  },
  {
   "cell_type": "code",
   "execution_count": 11,
   "metadata": {},
   "outputs": [
    {
     "data": {
      "text/plain": [
       "385"
      ]
     },
     "execution_count": 11,
     "metadata": {},
     "output_type": "execute_result"
    }
   ],
   "source": [
    "len(brands)\n",
    "# there are 385 brands in this data"
   ]
  },
  {
   "cell_type": "code",
   "execution_count": 8,
   "metadata": {},
   "outputs": [],
   "source": [
    "# converting it into DataFrame\n",
    "data_df = pd.DataFrame(data)"
   ]
  },
  {
   "cell_type": "code",
   "execution_count": 9,
   "metadata": {},
   "outputs": [
    {
     "data": {
      "text/html": [
       "<div>\n",
       "<style scoped>\n",
       "    .dataframe tbody tr th:only-of-type {\n",
       "        vertical-align: middle;\n",
       "    }\n",
       "\n",
       "    .dataframe tbody tr th {\n",
       "        vertical-align: top;\n",
       "    }\n",
       "\n",
       "    .dataframe thead th {\n",
       "        text-align: right;\n",
       "    }\n",
       "</style>\n",
       "<table border=\"1\" class=\"dataframe\">\n",
       "  <thead>\n",
       "    <tr style=\"text-align: right;\">\n",
       "      <th></th>\n",
       "      <th>Product Name</th>\n",
       "      <th>Brand Name</th>\n",
       "      <th>Price</th>\n",
       "      <th>Rating</th>\n",
       "      <th>Reviews</th>\n",
       "      <th>Review Votes</th>\n",
       "    </tr>\n",
       "  </thead>\n",
       "  <tbody>\n",
       "    <tr>\n",
       "      <th>0</th>\n",
       "      <td>\"CLEAR CLEAN ESN\" Sprint EPIC 4G Galaxy SPH-D7...</td>\n",
       "      <td>Samsung</td>\n",
       "      <td>199.99</td>\n",
       "      <td>5</td>\n",
       "      <td>I feel so LUCKY to have found this used (phone...</td>\n",
       "      <td>1.0</td>\n",
       "    </tr>\n",
       "    <tr>\n",
       "      <th>1</th>\n",
       "      <td>\"CLEAR CLEAN ESN\" Sprint EPIC 4G Galaxy SPH-D7...</td>\n",
       "      <td>Samsung</td>\n",
       "      <td>199.99</td>\n",
       "      <td>4</td>\n",
       "      <td>nice phone, nice up grade from my pantach revu...</td>\n",
       "      <td>0.0</td>\n",
       "    </tr>\n",
       "    <tr>\n",
       "      <th>2</th>\n",
       "      <td>\"CLEAR CLEAN ESN\" Sprint EPIC 4G Galaxy SPH-D7...</td>\n",
       "      <td>Samsung</td>\n",
       "      <td>199.99</td>\n",
       "      <td>5</td>\n",
       "      <td>Very pleased</td>\n",
       "      <td>0.0</td>\n",
       "    </tr>\n",
       "    <tr>\n",
       "      <th>3</th>\n",
       "      <td>\"CLEAR CLEAN ESN\" Sprint EPIC 4G Galaxy SPH-D7...</td>\n",
       "      <td>Samsung</td>\n",
       "      <td>199.99</td>\n",
       "      <td>4</td>\n",
       "      <td>It works good but it goes slow sometimes but i...</td>\n",
       "      <td>0.0</td>\n",
       "    </tr>\n",
       "    <tr>\n",
       "      <th>4</th>\n",
       "      <td>\"CLEAR CLEAN ESN\" Sprint EPIC 4G Galaxy SPH-D7...</td>\n",
       "      <td>Samsung</td>\n",
       "      <td>199.99</td>\n",
       "      <td>4</td>\n",
       "      <td>Great phone to replace my lost phone. The only...</td>\n",
       "      <td>0.0</td>\n",
       "    </tr>\n",
       "  </tbody>\n",
       "</table>\n",
       "</div>"
      ],
      "text/plain": [
       "                                        Product Name Brand Name   Price  \\\n",
       "0  \"CLEAR CLEAN ESN\" Sprint EPIC 4G Galaxy SPH-D7...    Samsung  199.99   \n",
       "1  \"CLEAR CLEAN ESN\" Sprint EPIC 4G Galaxy SPH-D7...    Samsung  199.99   \n",
       "2  \"CLEAR CLEAN ESN\" Sprint EPIC 4G Galaxy SPH-D7...    Samsung  199.99   \n",
       "3  \"CLEAR CLEAN ESN\" Sprint EPIC 4G Galaxy SPH-D7...    Samsung  199.99   \n",
       "4  \"CLEAR CLEAN ESN\" Sprint EPIC 4G Galaxy SPH-D7...    Samsung  199.99   \n",
       "\n",
       "   Rating                                            Reviews  Review Votes  \n",
       "0       5  I feel so LUCKY to have found this used (phone...           1.0  \n",
       "1       4  nice phone, nice up grade from my pantach revu...           0.0  \n",
       "2       5                                       Very pleased           0.0  \n",
       "3       4  It works good but it goes slow sometimes but i...           0.0  \n",
       "4       4  Great phone to replace my lost phone. The only...           0.0  "
      ]
     },
     "execution_count": 9,
     "metadata": {},
     "output_type": "execute_result"
    }
   ],
   "source": [
    "data_df.head()"
   ]
  },
  {
   "cell_type": "code",
   "execution_count": 10,
   "metadata": {},
   "outputs": [],
   "source": [
    "data_df = shuffle(data_df)"
   ]
  },
  {
   "cell_type": "code",
   "execution_count": 11,
   "metadata": {},
   "outputs": [
    {
     "data": {
      "text/html": [
       "<div>\n",
       "<style scoped>\n",
       "    .dataframe tbody tr th:only-of-type {\n",
       "        vertical-align: middle;\n",
       "    }\n",
       "\n",
       "    .dataframe tbody tr th {\n",
       "        vertical-align: top;\n",
       "    }\n",
       "\n",
       "    .dataframe thead th {\n",
       "        text-align: right;\n",
       "    }\n",
       "</style>\n",
       "<table border=\"1\" class=\"dataframe\">\n",
       "  <thead>\n",
       "    <tr style=\"text-align: right;\">\n",
       "      <th></th>\n",
       "      <th>Product Name</th>\n",
       "      <th>Brand Name</th>\n",
       "      <th>Price</th>\n",
       "      <th>Rating</th>\n",
       "      <th>Reviews</th>\n",
       "      <th>Review Votes</th>\n",
       "    </tr>\n",
       "  </thead>\n",
       "  <tbody>\n",
       "    <tr>\n",
       "      <th>3322</th>\n",
       "      <td>Apple - Iphone 5c A1532 Verizon 16 GB Cell Pho...</td>\n",
       "      <td>Apple</td>\n",
       "      <td>33.00</td>\n",
       "      <td>5</td>\n",
       "      <td>The iphone works great!</td>\n",
       "      <td>0.0</td>\n",
       "    </tr>\n",
       "    <tr>\n",
       "      <th>340538</th>\n",
       "      <td>Samsung Galaxy S3 SCH-I535 Verizon Phone, 16GB...</td>\n",
       "      <td>Samsung</td>\n",
       "      <td>92.50</td>\n",
       "      <td>5</td>\n",
       "      <td>좋군. Good.</td>\n",
       "      <td>0.0</td>\n",
       "    </tr>\n",
       "    <tr>\n",
       "      <th>9029</th>\n",
       "      <td>Apple iPhone 4 32GB (Black) - Verizon</td>\n",
       "      <td>Apple</td>\n",
       "      <td>69.98</td>\n",
       "      <td>5</td>\n",
       "      <td>perfect</td>\n",
       "      <td>NaN</td>\n",
       "    </tr>\n",
       "    <tr>\n",
       "      <th>205384</th>\n",
       "      <td>Indigi® Unlocked Android 4.4 KK 3G SmartPhone ...</td>\n",
       "      <td>Indigi</td>\n",
       "      <td>109.92</td>\n",
       "      <td>5</td>\n",
       "      <td>My daughter love the phone</td>\n",
       "      <td>0.0</td>\n",
       "    </tr>\n",
       "    <tr>\n",
       "      <th>225883</th>\n",
       "      <td>LG Google Nexus 5 D821 16GB Factory Unlocked (...</td>\n",
       "      <td>LG</td>\n",
       "      <td>385.00</td>\n",
       "      <td>5</td>\n",
       "      <td>Is an excelent phone!!</td>\n",
       "      <td>0.0</td>\n",
       "    </tr>\n",
       "    <tr>\n",
       "      <th>217537</th>\n",
       "      <td>LG G3 Beat D722J 8GB Unlocked GSM Quad-Core An...</td>\n",
       "      <td>LG</td>\n",
       "      <td>69.99</td>\n",
       "      <td>4</td>\n",
       "      <td>very nice fone</td>\n",
       "      <td>0.0</td>\n",
       "    </tr>\n",
       "    <tr>\n",
       "      <th>108782</th>\n",
       "      <td>BLU Dash C Music-US GSM - Unlocked Cell Phone ...</td>\n",
       "      <td>BLU</td>\n",
       "      <td>54.99</td>\n",
       "      <td>4</td>\n",
       "      <td>Traveled to the Caribbean with this phone it w...</td>\n",
       "      <td>0.0</td>\n",
       "    </tr>\n",
       "    <tr>\n",
       "      <th>330100</th>\n",
       "      <td>Samsung Galaxy Note GT-N7000 Unlocked Cellphon...</td>\n",
       "      <td>Samsung</td>\n",
       "      <td>274.44</td>\n",
       "      <td>5</td>\n",
       "      <td>Totally and utterly thrilled with my purchase....</td>\n",
       "      <td>1.0</td>\n",
       "    </tr>\n",
       "    <tr>\n",
       "      <th>375693</th>\n",
       "      <td>Samsung Galaxy Star Pro DUOS S7262 Unlocked Ce...</td>\n",
       "      <td>NaN</td>\n",
       "      <td>249.99</td>\n",
       "      <td>1</td>\n",
       "      <td>I returned already cuz i dostn work i hope get...</td>\n",
       "      <td>1.0</td>\n",
       "    </tr>\n",
       "    <tr>\n",
       "      <th>375445</th>\n",
       "      <td>Samsung Galaxy S7 Unlocked PhoneDual Sim Facto...</td>\n",
       "      <td>Samsung</td>\n",
       "      <td>679.99</td>\n",
       "      <td>5</td>\n",
       "      <td>Good!~~</td>\n",
       "      <td>0.0</td>\n",
       "    </tr>\n",
       "  </tbody>\n",
       "</table>\n",
       "</div>"
      ],
      "text/plain": [
       "                                             Product Name Brand Name   Price  \\\n",
       "3322    Apple - Iphone 5c A1532 Verizon 16 GB Cell Pho...      Apple   33.00   \n",
       "340538  Samsung Galaxy S3 SCH-I535 Verizon Phone, 16GB...    Samsung   92.50   \n",
       "9029                Apple iPhone 4 32GB (Black) - Verizon      Apple   69.98   \n",
       "205384  Indigi® Unlocked Android 4.4 KK 3G SmartPhone ...     Indigi  109.92   \n",
       "225883  LG Google Nexus 5 D821 16GB Factory Unlocked (...         LG  385.00   \n",
       "217537  LG G3 Beat D722J 8GB Unlocked GSM Quad-Core An...         LG   69.99   \n",
       "108782  BLU Dash C Music-US GSM - Unlocked Cell Phone ...        BLU   54.99   \n",
       "330100  Samsung Galaxy Note GT-N7000 Unlocked Cellphon...    Samsung  274.44   \n",
       "375693  Samsung Galaxy Star Pro DUOS S7262 Unlocked Ce...        NaN  249.99   \n",
       "375445  Samsung Galaxy S7 Unlocked PhoneDual Sim Facto...    Samsung  679.99   \n",
       "\n",
       "        Rating                                            Reviews  \\\n",
       "3322         5                            The iphone works great!   \n",
       "340538       5                                          좋군. Good.   \n",
       "9029         5                                            perfect   \n",
       "205384       5                         My daughter love the phone   \n",
       "225883       5                             Is an excelent phone!!   \n",
       "217537       4                                     very nice fone   \n",
       "108782       4  Traveled to the Caribbean with this phone it w...   \n",
       "330100       5  Totally and utterly thrilled with my purchase....   \n",
       "375693       1  I returned already cuz i dostn work i hope get...   \n",
       "375445       5                                            Good!~~   \n",
       "\n",
       "        Review Votes  \n",
       "3322             0.0  \n",
       "340538           0.0  \n",
       "9029             NaN  \n",
       "205384           0.0  \n",
       "225883           0.0  \n",
       "217537           0.0  \n",
       "108782           0.0  \n",
       "330100           1.0  \n",
       "375693           1.0  \n",
       "375445           0.0  "
      ]
     },
     "execution_count": 11,
     "metadata": {},
     "output_type": "execute_result"
    }
   ],
   "source": [
    "data_df[:10]"
   ]
  },
  {
   "cell_type": "code",
   "execution_count": 12,
   "metadata": {},
   "outputs": [],
   "source": [
    "# removing NA values from data\n",
    "data_df = data_df.dropna()"
   ]
  },
  {
   "cell_type": "code",
   "execution_count": 13,
   "metadata": {},
   "outputs": [
    {
     "data": {
      "text/plain": [
       "Product Name    0\n",
       "Brand Name      0\n",
       "Price           0\n",
       "Rating          0\n",
       "Reviews         0\n",
       "Review Votes    0\n",
       "dtype: int64"
      ]
     },
     "execution_count": 13,
     "metadata": {},
     "output_type": "execute_result"
    }
   ],
   "source": [
    "data_df.isna().sum()"
   ]
  },
  {
   "cell_type": "code",
   "execution_count": 18,
   "metadata": {},
   "outputs": [],
   "source": [
    "# There is no na value in the data"
   ]
  },
  {
   "cell_type": "code",
   "execution_count": 14,
   "metadata": {},
   "outputs": [
    {
     "data": {
      "text/html": [
       "<div>\n",
       "<style scoped>\n",
       "    .dataframe tbody tr th:only-of-type {\n",
       "        vertical-align: middle;\n",
       "    }\n",
       "\n",
       "    .dataframe tbody tr th {\n",
       "        vertical-align: top;\n",
       "    }\n",
       "\n",
       "    .dataframe thead th {\n",
       "        text-align: right;\n",
       "    }\n",
       "</style>\n",
       "<table border=\"1\" class=\"dataframe\">\n",
       "  <thead>\n",
       "    <tr style=\"text-align: right;\">\n",
       "      <th></th>\n",
       "      <th>Price</th>\n",
       "      <th>Rating</th>\n",
       "      <th>Review Votes</th>\n",
       "    </tr>\n",
       "  </thead>\n",
       "  <tbody>\n",
       "    <tr>\n",
       "      <th>count</th>\n",
       "      <td>334335.000000</td>\n",
       "      <td>334335.000000</td>\n",
       "      <td>334335.000000</td>\n",
       "    </tr>\n",
       "    <tr>\n",
       "      <th>mean</th>\n",
       "      <td>222.585019</td>\n",
       "      <td>3.824888</td>\n",
       "      <td>1.474515</td>\n",
       "    </tr>\n",
       "    <tr>\n",
       "      <th>std</th>\n",
       "      <td>283.139353</td>\n",
       "      <td>1.541203</td>\n",
       "      <td>9.217348</td>\n",
       "    </tr>\n",
       "    <tr>\n",
       "      <th>min</th>\n",
       "      <td>1.730000</td>\n",
       "      <td>1.000000</td>\n",
       "      <td>0.000000</td>\n",
       "    </tr>\n",
       "    <tr>\n",
       "      <th>25%</th>\n",
       "      <td>75.410000</td>\n",
       "      <td>3.000000</td>\n",
       "      <td>0.000000</td>\n",
       "    </tr>\n",
       "    <tr>\n",
       "      <th>50%</th>\n",
       "      <td>139.000000</td>\n",
       "      <td>5.000000</td>\n",
       "      <td>0.000000</td>\n",
       "    </tr>\n",
       "    <tr>\n",
       "      <th>75%</th>\n",
       "      <td>264.100000</td>\n",
       "      <td>5.000000</td>\n",
       "      <td>1.000000</td>\n",
       "    </tr>\n",
       "    <tr>\n",
       "      <th>max</th>\n",
       "      <td>2598.000000</td>\n",
       "      <td>5.000000</td>\n",
       "      <td>645.000000</td>\n",
       "    </tr>\n",
       "  </tbody>\n",
       "</table>\n",
       "</div>"
      ],
      "text/plain": [
       "               Price         Rating   Review Votes\n",
       "count  334335.000000  334335.000000  334335.000000\n",
       "mean      222.585019       3.824888       1.474515\n",
       "std       283.139353       1.541203       9.217348\n",
       "min         1.730000       1.000000       0.000000\n",
       "25%        75.410000       3.000000       0.000000\n",
       "50%       139.000000       5.000000       0.000000\n",
       "75%       264.100000       5.000000       1.000000\n",
       "max      2598.000000       5.000000     645.000000"
      ]
     },
     "execution_count": 14,
     "metadata": {},
     "output_type": "execute_result"
    }
   ],
   "source": [
    "data_df.describe()"
   ]
  },
  {
   "cell_type": "markdown",
   "metadata": {},
   "source": [
    "Top 10 brands in the data set sorted on the basis of sum of Ratings."
   ]
  },
  {
   "cell_type": "code",
   "execution_count": 15,
   "metadata": {},
   "outputs": [
    {
     "data": {
      "text/html": [
       "<div>\n",
       "<style scoped>\n",
       "    .dataframe tbody tr th:only-of-type {\n",
       "        vertical-align: middle;\n",
       "    }\n",
       "\n",
       "    .dataframe tbody tr th {\n",
       "        vertical-align: top;\n",
       "    }\n",
       "\n",
       "    .dataframe thead tr th {\n",
       "        text-align: left;\n",
       "    }\n",
       "\n",
       "    .dataframe thead tr:last-of-type th {\n",
       "        text-align: right;\n",
       "    }\n",
       "</style>\n",
       "<table border=\"1\" class=\"dataframe\">\n",
       "  <thead>\n",
       "    <tr>\n",
       "      <th></th>\n",
       "      <th colspan=\"2\" halign=\"left\">sum</th>\n",
       "      <th colspan=\"2\" halign=\"left\">mean</th>\n",
       "    </tr>\n",
       "    <tr>\n",
       "      <th></th>\n",
       "      <th>Rating</th>\n",
       "      <th>Review Votes</th>\n",
       "      <th>Rating</th>\n",
       "      <th>Review Votes</th>\n",
       "    </tr>\n",
       "    <tr>\n",
       "      <th>Brand Name</th>\n",
       "      <th></th>\n",
       "      <th></th>\n",
       "      <th></th>\n",
       "      <th></th>\n",
       "    </tr>\n",
       "  </thead>\n",
       "  <tbody>\n",
       "    <tr>\n",
       "      <th>AMM Global Enterprises</th>\n",
       "      <td>44</td>\n",
       "      <td>1</td>\n",
       "      <td>4.888889</td>\n",
       "      <td>0.111111</td>\n",
       "    </tr>\n",
       "    <tr>\n",
       "      <th>ARGOM TECH</th>\n",
       "      <td>6</td>\n",
       "      <td>0</td>\n",
       "      <td>3.000000</td>\n",
       "      <td>0.000000</td>\n",
       "    </tr>\n",
       "    <tr>\n",
       "      <th>ASUS</th>\n",
       "      <td>2092</td>\n",
       "      <td>838</td>\n",
       "      <td>4.470085</td>\n",
       "      <td>1.790598</td>\n",
       "    </tr>\n",
       "    <tr>\n",
       "      <th>ASUS Computers</th>\n",
       "      <td>2852</td>\n",
       "      <td>831</td>\n",
       "      <td>4.028249</td>\n",
       "      <td>1.173729</td>\n",
       "    </tr>\n",
       "    <tr>\n",
       "      <th>AT&amp;T</th>\n",
       "      <td>5</td>\n",
       "      <td>0</td>\n",
       "      <td>5.000000</td>\n",
       "      <td>0.000000</td>\n",
       "    </tr>\n",
       "    <tr>\n",
       "      <th>ATT</th>\n",
       "      <td>160</td>\n",
       "      <td>25</td>\n",
       "      <td>3.636364</td>\n",
       "      <td>0.568182</td>\n",
       "    </tr>\n",
       "    <tr>\n",
       "      <th>Acer</th>\n",
       "      <td>68</td>\n",
       "      <td>27</td>\n",
       "      <td>3.090909</td>\n",
       "      <td>1.227273</td>\n",
       "    </tr>\n",
       "    <tr>\n",
       "      <th>Aeku</th>\n",
       "      <td>10</td>\n",
       "      <td>8</td>\n",
       "      <td>5.000000</td>\n",
       "      <td>4.000000</td>\n",
       "    </tr>\n",
       "    <tr>\n",
       "      <th>AeroAntenna</th>\n",
       "      <td>5</td>\n",
       "      <td>0</td>\n",
       "      <td>5.000000</td>\n",
       "      <td>0.000000</td>\n",
       "    </tr>\n",
       "    <tr>\n",
       "      <th>Alcatel</th>\n",
       "      <td>5574</td>\n",
       "      <td>3174</td>\n",
       "      <td>4.039130</td>\n",
       "      <td>2.300000</td>\n",
       "    </tr>\n",
       "  </tbody>\n",
       "</table>\n",
       "</div>"
      ],
      "text/plain": [
       "                          sum                   mean             \n",
       "                       Rating Review Votes    Rating Review Votes\n",
       "Brand Name                                                       \n",
       "AMM Global Enterprises     44            1  4.888889     0.111111\n",
       "ARGOM TECH                  6            0  3.000000     0.000000\n",
       "ASUS                     2092          838  4.470085     1.790598\n",
       "ASUS Computers           2852          831  4.028249     1.173729\n",
       "AT&T                        5            0  5.000000     0.000000\n",
       "ATT                       160           25  3.636364     0.568182\n",
       "Acer                       68           27  3.090909     1.227273\n",
       "Aeku                       10            8  5.000000     4.000000\n",
       "AeroAntenna                 5            0  5.000000     0.000000\n",
       "Alcatel                  5574         3174  4.039130     2.300000"
      ]
     },
     "execution_count": 15,
     "metadata": {},
     "output_type": "execute_result"
    }
   ],
   "source": [
    "info = pd.pivot_table(data_df,index=['Brand Name'],values=['Rating','Review Votes'],\n",
    "                     columns = [] , aggfunc = [np.sum , np.mean] , fill_value = 0)\n",
    "info.head(10)"
   ]
  },
  {
   "cell_type": "code",
   "execution_count": 16,
   "metadata": {},
   "outputs": [
    {
     "data": {
      "text/html": [
       "<div>\n",
       "<style scoped>\n",
       "    .dataframe tbody tr th:only-of-type {\n",
       "        vertical-align: middle;\n",
       "    }\n",
       "\n",
       "    .dataframe tbody tr th {\n",
       "        vertical-align: top;\n",
       "    }\n",
       "\n",
       "    .dataframe thead tr th {\n",
       "        text-align: left;\n",
       "    }\n",
       "\n",
       "    .dataframe thead tr:last-of-type th {\n",
       "        text-align: right;\n",
       "    }\n",
       "</style>\n",
       "<table border=\"1\" class=\"dataframe\">\n",
       "  <thead>\n",
       "    <tr>\n",
       "      <th></th>\n",
       "      <th colspan=\"2\" halign=\"left\">sum</th>\n",
       "      <th colspan=\"2\" halign=\"left\">mean</th>\n",
       "    </tr>\n",
       "    <tr>\n",
       "      <th></th>\n",
       "      <th>Rating</th>\n",
       "      <th>Review Votes</th>\n",
       "      <th>Rating</th>\n",
       "      <th>Review Votes</th>\n",
       "    </tr>\n",
       "    <tr>\n",
       "      <th>Brand Name</th>\n",
       "      <th></th>\n",
       "      <th></th>\n",
       "      <th></th>\n",
       "      <th></th>\n",
       "    </tr>\n",
       "  </thead>\n",
       "  <tbody>\n",
       "    <tr>\n",
       "      <th>Samsung</th>\n",
       "      <td>250452</td>\n",
       "      <td>96057</td>\n",
       "      <td>3.973032</td>\n",
       "      <td>1.523795</td>\n",
       "    </tr>\n",
       "    <tr>\n",
       "      <th>BLU</th>\n",
       "      <td>226085</td>\n",
       "      <td>54798</td>\n",
       "      <td>3.821069</td>\n",
       "      <td>0.926143</td>\n",
       "    </tr>\n",
       "    <tr>\n",
       "      <th>Apple</th>\n",
       "      <td>220286</td>\n",
       "      <td>112211</td>\n",
       "      <td>3.926597</td>\n",
       "      <td>2.000160</td>\n",
       "    </tr>\n",
       "    <tr>\n",
       "      <th>LG</th>\n",
       "      <td>83266</td>\n",
       "      <td>22929</td>\n",
       "      <td>3.848493</td>\n",
       "      <td>1.059762</td>\n",
       "    </tr>\n",
       "    <tr>\n",
       "      <th>BlackBerry</th>\n",
       "      <td>61892</td>\n",
       "      <td>21114</td>\n",
       "      <td>3.750121</td>\n",
       "      <td>1.279326</td>\n",
       "    </tr>\n",
       "    <tr>\n",
       "      <th>Nokia</th>\n",
       "      <td>61833</td>\n",
       "      <td>25684</td>\n",
       "      <td>3.824879</td>\n",
       "      <td>1.588767</td>\n",
       "    </tr>\n",
       "    <tr>\n",
       "      <th>Motorola</th>\n",
       "      <td>49564</td>\n",
       "      <td>23107</td>\n",
       "      <td>3.811736</td>\n",
       "      <td>1.777051</td>\n",
       "    </tr>\n",
       "    <tr>\n",
       "      <th>HTC</th>\n",
       "      <td>42873</td>\n",
       "      <td>12777</td>\n",
       "      <td>3.474030</td>\n",
       "      <td>1.035329</td>\n",
       "    </tr>\n",
       "    <tr>\n",
       "      <th>CNPGD</th>\n",
       "      <td>38233</td>\n",
       "      <td>20151</td>\n",
       "      <td>3.107869</td>\n",
       "      <td>1.638026</td>\n",
       "    </tr>\n",
       "    <tr>\n",
       "      <th>OtterBox</th>\n",
       "      <td>34556</td>\n",
       "      <td>2268</td>\n",
       "      <td>4.385279</td>\n",
       "      <td>0.287817</td>\n",
       "    </tr>\n",
       "  </tbody>\n",
       "</table>\n",
       "</div>"
      ],
      "text/plain": [
       "               sum                   mean             \n",
       "            Rating Review Votes    Rating Review Votes\n",
       "Brand Name                                            \n",
       "Samsung     250452        96057  3.973032     1.523795\n",
       "BLU         226085        54798  3.821069     0.926143\n",
       "Apple       220286       112211  3.926597     2.000160\n",
       "LG           83266        22929  3.848493     1.059762\n",
       "BlackBerry   61892        21114  3.750121     1.279326\n",
       "Nokia        61833        25684  3.824879     1.588767\n",
       "Motorola     49564        23107  3.811736     1.777051\n",
       "HTC          42873        12777  3.474030     1.035329\n",
       "CNPGD        38233        20151  3.107869     1.638026\n",
       "OtterBox     34556         2268  4.385279     0.287817"
      ]
     },
     "execution_count": 16,
     "metadata": {},
     "output_type": "execute_result"
    }
   ],
   "source": [
    "info = info.sort_values(by = ('sum' , 'Rating') , ascending = False )\n",
    "info.head(10)"
   ]
  },
  {
   "cell_type": "code",
   "execution_count": 17,
   "metadata": {},
   "outputs": [
    {
     "data": {
      "text/plain": [
       "Index(['Product Name', 'Brand Name', 'Price', 'Rating', 'Reviews',\n",
       "       'Review Votes'],\n",
       "      dtype='object')"
      ]
     },
     "execution_count": 17,
     "metadata": {},
     "output_type": "execute_result"
    }
   ],
   "source": [
    "data_df.columns"
   ]
  },
  {
   "cell_type": "code",
   "execution_count": 18,
   "metadata": {},
   "outputs": [
    {
     "data": {
      "image/png": "[encoded data removed]",
      "text/plain": [
       "<Figure size 432x288 with 1 Axes>"
      ]
     },
     "metadata": {
      "needs_background": "light"
     },
     "output_type": "display_data"
    }
   ],
   "source": [
    "\n",
    "plt.scatter(data_df.Price , data_df.Rating)\n",
    "plt.xlabel('Price')\n",
    "plt.ylabel('Rating')\n",
    "plt.show()\n"
   ]
  },
  {
   "cell_type": "code",
   "execution_count": 40,
   "metadata": {},
   "outputs": [
    {
     "data": {
      "image/png": "[encoded data removed]",
      "text/plain": [
       "<Figure size 432x288 with 1 Axes>"
      ]
     },
     "metadata": {
      "needs_background": "light"
     },
     "output_type": "display_data"
    }
   ],
   "source": [
    "xlabel2 = data_df['Review Votes']\n",
    "plt.xlabel('Review_votes')\n",
    "ylabel2 = data_df['Price']\n",
    "plt.ylabel('Price')\n",
    "plt.scatter(xlabel2,ylabel2)\n",
    "plt.show()"
   ]
  },
  {
   "cell_type": "code",
   "execution_count": 41,
   "metadata": {},
   "outputs": [
    {
     "data": {
      "image/png": "[encoded data removed]",
      "text/plain": [
       "<Figure size 432x288 with 1 Axes>"
      ]
     },
     "metadata": {
      "needs_background": "light"
     },
     "output_type": "display_data"
    }
   ],
   "source": [
    "xlabel2 = data_df['Review Votes']\n",
    "plt.xlabel('Review_votes')\n",
    "ylabel2 = data_df['Rating']\n",
    "plt.ylabel('Rating')\n",
    "plt.scatter(xlabel2,ylabel2)\n",
    "plt.show()"
   ]
  },
  {
   "cell_type": "code",
   "execution_count": 19,
   "metadata": {},
   "outputs": [
    {
     "data": {
      "text/html": [
       "<div>\n",
       "<style scoped>\n",
       "    .dataframe tbody tr th:only-of-type {\n",
       "        vertical-align: middle;\n",
       "    }\n",
       "\n",
       "    .dataframe tbody tr th {\n",
       "        vertical-align: top;\n",
       "    }\n",
       "\n",
       "    .dataframe thead th {\n",
       "        text-align: right;\n",
       "    }\n",
       "</style>\n",
       "<table border=\"1\" class=\"dataframe\">\n",
       "  <thead>\n",
       "    <tr style=\"text-align: right;\">\n",
       "      <th></th>\n",
       "      <th>Price</th>\n",
       "      <th>Rating</th>\n",
       "      <th>Review Votes</th>\n",
       "    </tr>\n",
       "  </thead>\n",
       "  <tbody>\n",
       "    <tr>\n",
       "      <th>Price</th>\n",
       "      <td>1.000000</td>\n",
       "      <td>0.073948</td>\n",
       "      <td>0.022164</td>\n",
       "    </tr>\n",
       "    <tr>\n",
       "      <th>Rating</th>\n",
       "      <td>0.073948</td>\n",
       "      <td>1.000000</td>\n",
       "      <td>-0.046526</td>\n",
       "    </tr>\n",
       "    <tr>\n",
       "      <th>Review Votes</th>\n",
       "      <td>0.022164</td>\n",
       "      <td>-0.046526</td>\n",
       "      <td>1.000000</td>\n",
       "    </tr>\n",
       "  </tbody>\n",
       "</table>\n",
       "</div>"
      ],
      "text/plain": [
       "                 Price    Rating  Review Votes\n",
       "Price         1.000000  0.073948      0.022164\n",
       "Rating        0.073948  1.000000     -0.046526\n",
       "Review Votes  0.022164 -0.046526      1.000000"
      ]
     },
     "execution_count": 19,
     "metadata": {},
     "output_type": "execute_result"
    }
   ],
   "source": [
    "corr_matrix = data_df.corr()\n",
    "corr_matrix"
   ]
  },
  {
   "cell_type": "code",
   "execution_count": 20,
   "metadata": {},
   "outputs": [
    {
     "data": {
      "text/plain": [
       "3322                                The iphone works great!\n",
       "340538                                            좋군. Good.\n",
       "205384                           My daughter love the phone\n",
       "225883                               Is an excelent phone!!\n",
       "217537                                       very nice fone\n",
       "108782    Traveled to the Caribbean with this phone it w...\n",
       "330100    Totally and utterly thrilled with my purchase....\n",
       "375445                                              Good!~~\n",
       "128983           Loving it, gets a bit hot with heavy usage\n",
       "158534    This phone is functional but has few of the fe...\n",
       "Name: Reviews, dtype: object"
      ]
     },
     "execution_count": 20,
     "metadata": {},
     "output_type": "execute_result"
    }
   ],
   "source": [
    "all_reviews = data_df['Reviews']\n",
    "all_reviews.head(10)"
   ]
  },
  {
   "cell_type": "code",
   "execution_count": 49,
   "metadata": {},
   "outputs": [
    {
     "data": {
      "text/html": [
       "<div>\n",
       "<style scoped>\n",
       "    .dataframe tbody tr th:only-of-type {\n",
       "        vertical-align: middle;\n",
       "    }\n",
       "\n",
       "    .dataframe tbody tr th {\n",
       "        vertical-align: top;\n",
       "    }\n",
       "\n",
       "    .dataframe thead th {\n",
       "        text-align: right;\n",
       "    }\n",
       "</style>\n",
       "<table border=\"1\" class=\"dataframe\">\n",
       "  <thead>\n",
       "    <tr style=\"text-align: right;\">\n",
       "      <th></th>\n",
       "      <th>Product Name</th>\n",
       "      <th>Brand Name</th>\n",
       "      <th>Price</th>\n",
       "      <th>Rating</th>\n",
       "      <th>Reviews</th>\n",
       "      <th>Review Votes</th>\n",
       "    </tr>\n",
       "  </thead>\n",
       "  <tbody>\n",
       "    <tr>\n",
       "      <th>235893</th>\n",
       "      <td>LG OPTIMUS L7 P705 Factory Unlocked Internatio...</td>\n",
       "      <td>LG</td>\n",
       "      <td>150.00</td>\n",
       "      <td>5</td>\n",
       "      <td>very good</td>\n",
       "      <td>0.0</td>\n",
       "    </tr>\n",
       "    <tr>\n",
       "      <th>242671</th>\n",
       "      <td>Moto G Play (4th gen.) - Black - 16 GB - Unloc...</td>\n",
       "      <td>Motorola</td>\n",
       "      <td>149.99</td>\n",
       "      <td>5</td>\n",
       "      <td>Seriously stoked on this phone. It's simple to...</td>\n",
       "      <td>0.0</td>\n",
       "    </tr>\n",
       "    <tr>\n",
       "      <th>366569</th>\n",
       "      <td>Samsung Galaxy S6 G920F Unlocked Cell Phone - ...</td>\n",
       "      <td>Samsung</td>\n",
       "      <td>449.00</td>\n",
       "      <td>5</td>\n",
       "      <td>Loved my Galaxy!</td>\n",
       "      <td>0.0</td>\n",
       "    </tr>\n",
       "    <tr>\n",
       "      <th>323523</th>\n",
       "      <td>Samsung Galaxy Note 3 (SM-N900V) - 32GB Verizo...</td>\n",
       "      <td>Samsung</td>\n",
       "      <td>219.99</td>\n",
       "      <td>1</td>\n",
       "      <td>I took the phone to Jamaica only to realize th...</td>\n",
       "      <td>5.0</td>\n",
       "    </tr>\n",
       "    <tr>\n",
       "      <th>355413</th>\n",
       "      <td>Samsung Galaxy S5 SM-G900A GSM Unlocked Cellph...</td>\n",
       "      <td>Samsung</td>\n",
       "      <td>234.00</td>\n",
       "      <td>1</td>\n",
       "      <td>I,liked it</td>\n",
       "      <td>1.0</td>\n",
       "    </tr>\n",
       "  </tbody>\n",
       "</table>\n",
       "</div>"
      ],
      "text/plain": [
       "                                             Product Name Brand Name   Price  \\\n",
       "235893  LG OPTIMUS L7 P705 Factory Unlocked Internatio...         LG  150.00   \n",
       "242671  Moto G Play (4th gen.) - Black - 16 GB - Unloc...   Motorola  149.99   \n",
       "366569  Samsung Galaxy S6 G920F Unlocked Cell Phone - ...    Samsung  449.00   \n",
       "323523  Samsung Galaxy Note 3 (SM-N900V) - 32GB Verizo...    Samsung  219.99   \n",
       "355413  Samsung Galaxy S5 SM-G900A GSM Unlocked Cellph...    Samsung  234.00   \n",
       "\n",
       "        Rating                                            Reviews  \\\n",
       "235893       5                                          very good   \n",
       "242671       5  Seriously stoked on this phone. It's simple to...   \n",
       "366569       5                                   Loved my Galaxy!   \n",
       "323523       1  I took the phone to Jamaica only to realize th...   \n",
       "355413       1                                         I,liked it   \n",
       "\n",
       "        Review Votes  \n",
       "235893           0.0  \n",
       "242671           0.0  \n",
       "366569           0.0  \n",
       "323523           5.0  \n",
       "355413           1.0  "
      ]
     },
     "execution_count": 49,
     "metadata": {},
     "output_type": "execute_result"
    }
   ],
   "source": [
    "data_df.head()"
   ]
  },
  {
   "cell_type": "code",
   "execution_count": 21,
   "metadata": {},
   "outputs": [],
   "source": [
    "# Reseting index after shuffeling\n",
    "data_df = data_df.reset_index(drop=True)"
   ]
  },
  {
   "cell_type": "code",
   "execution_count": 51,
   "metadata": {},
   "outputs": [
    {
     "data": {
      "text/html": [
       "<div>\n",
       "<style scoped>\n",
       "    .dataframe tbody tr th:only-of-type {\n",
       "        vertical-align: middle;\n",
       "    }\n",
       "\n",
       "    .dataframe tbody tr th {\n",
       "        vertical-align: top;\n",
       "    }\n",
       "\n",
       "    .dataframe thead th {\n",
       "        text-align: right;\n",
       "    }\n",
       "</style>\n",
       "<table border=\"1\" class=\"dataframe\">\n",
       "  <thead>\n",
       "    <tr style=\"text-align: right;\">\n",
       "      <th></th>\n",
       "      <th>Product Name</th>\n",
       "      <th>Brand Name</th>\n",
       "      <th>Price</th>\n",
       "      <th>Rating</th>\n",
       "      <th>Reviews</th>\n",
       "      <th>Review Votes</th>\n",
       "    </tr>\n",
       "  </thead>\n",
       "  <tbody>\n",
       "    <tr>\n",
       "      <th>0</th>\n",
       "      <td>LG OPTIMUS L7 P705 Factory Unlocked Internatio...</td>\n",
       "      <td>LG</td>\n",
       "      <td>150.00</td>\n",
       "      <td>5</td>\n",
       "      <td>very good</td>\n",
       "      <td>0.0</td>\n",
       "    </tr>\n",
       "    <tr>\n",
       "      <th>1</th>\n",
       "      <td>Moto G Play (4th gen.) - Black - 16 GB - Unloc...</td>\n",
       "      <td>Motorola</td>\n",
       "      <td>149.99</td>\n",
       "      <td>5</td>\n",
       "      <td>Seriously stoked on this phone. It's simple to...</td>\n",
       "      <td>0.0</td>\n",
       "    </tr>\n",
       "    <tr>\n",
       "      <th>2</th>\n",
       "      <td>Samsung Galaxy S6 G920F Unlocked Cell Phone - ...</td>\n",
       "      <td>Samsung</td>\n",
       "      <td>449.00</td>\n",
       "      <td>5</td>\n",
       "      <td>Loved my Galaxy!</td>\n",
       "      <td>0.0</td>\n",
       "    </tr>\n",
       "    <tr>\n",
       "      <th>3</th>\n",
       "      <td>Samsung Galaxy Note 3 (SM-N900V) - 32GB Verizo...</td>\n",
       "      <td>Samsung</td>\n",
       "      <td>219.99</td>\n",
       "      <td>1</td>\n",
       "      <td>I took the phone to Jamaica only to realize th...</td>\n",
       "      <td>5.0</td>\n",
       "    </tr>\n",
       "    <tr>\n",
       "      <th>4</th>\n",
       "      <td>Samsung Galaxy S5 SM-G900A GSM Unlocked Cellph...</td>\n",
       "      <td>Samsung</td>\n",
       "      <td>234.00</td>\n",
       "      <td>1</td>\n",
       "      <td>I,liked it</td>\n",
       "      <td>1.0</td>\n",
       "    </tr>\n",
       "  </tbody>\n",
       "</table>\n",
       "</div>"
      ],
      "text/plain": [
       "                                        Product Name Brand Name   Price  \\\n",
       "0  LG OPTIMUS L7 P705 Factory Unlocked Internatio...         LG  150.00   \n",
       "1  Moto G Play (4th gen.) - Black - 16 GB - Unloc...   Motorola  149.99   \n",
       "2  Samsung Galaxy S6 G920F Unlocked Cell Phone - ...    Samsung  449.00   \n",
       "3  Samsung Galaxy Note 3 (SM-N900V) - 32GB Verizo...    Samsung  219.99   \n",
       "4  Samsung Galaxy S5 SM-G900A GSM Unlocked Cellph...    Samsung  234.00   \n",
       "\n",
       "   Rating                                            Reviews  Review Votes  \n",
       "0       5                                          very good           0.0  \n",
       "1       5  Seriously stoked on this phone. It's simple to...           0.0  \n",
       "2       5                                   Loved my Galaxy!           0.0  \n",
       "3       1  I took the phone to Jamaica only to realize th...           5.0  \n",
       "4       1                                         I,liked it           1.0  "
      ]
     },
     "execution_count": 51,
     "metadata": {},
     "output_type": "execute_result"
    }
   ],
   "source": [
    "data_df.head()"
   ]
  },
  {
   "cell_type": "code",
   "execution_count": 22,
   "metadata": {},
   "outputs": [],
   "source": [
    "all_reviews = data_df['Reviews']\n",
    "all_sent_values = []\n",
    "all_sentiments = []"
   ]
  },
  {
   "cell_type": "code",
   "execution_count": 57,
   "metadata": {},
   "outputs": [
    {
     "name": "stderr",
     "output_type": "stream",
     "text": [
      "[nltk_data] Downloading package vader_lexicon to\n",
      "[nltk_data]     C:\\Users\\Dell\\AppData\\Roaming\\nltk_data...\n"
     ]
    },
    {
     "data": {
      "text/plain": [
       "True"
      ]
     },
     "execution_count": 57,
     "metadata": {},
     "output_type": "execute_result"
    }
   ],
   "source": [
    "import nltk\n",
    "nltk.download('vader_lexicon')"
   ]
  },
  {
   "cell_type": "code",
   "execution_count": 29,
   "metadata": {},
   "outputs": [],
   "source": [
    "from nltk.sentiment.vader import SentimentIntensityAnalyzer\n",
    "def sentiment_value(paragraph):\n",
    "    analyser = SentimentIntensityAnalyzer()\n",
    "    result = analyser.polarity_scores(paragraph)\n",
    "    score = result['compound']\n",
    "    return round(score,1)"
   ]
  },
  {
   "cell_type": "code",
   "execution_count": 30,
   "metadata": {},
   "outputs": [
    {
     "name": "stdout",
     "output_type": "stream",
     "text": [
      "Phone was in fair condition. The case had more scratches than originally suggested. For the price, however, a great purchase and delivered very quickly.\n",
      "Sentiment: \n",
      "0.8\n"
     ]
    }
   ],
   "source": [
    "sample = data_df['Reviews'][1231]\n",
    "print(sample)\n",
    "print('Sentiment: ')\n",
    "print(sentiment_value(sample))"
   ]
  },
  {
   "cell_type": "code",
   "execution_count": 33,
   "metadata": {},
   "outputs": [
    {
     "name": "stdout",
     "output_type": "stream",
     "text": [
      "i love the look and feel of the phone, as well as the phenominal battery life, and it shipped very fast\n",
      "Sentiment: \n",
      "0.7\n"
     ]
    }
   ],
   "source": [
    "sample1 = data_df['Reviews'][99315]\n",
    "print(sample1)\n",
    "print('Sentiment: ')\n",
    "print(sentiment_value(sample1))"
   ]
  },
  {
   "cell_type": "code",
   "execution_count": 35,
   "metadata": {},
   "outputs": [
    {
     "name": "stdout",
     "output_type": "stream",
     "text": [
      "Good basic phone\n",
      "Sentiment: \n",
      "0.4\n"
     ]
    }
   ],
   "source": [
    "sample2 = data_df['Reviews'][9001]\n",
    "print(sample2)\n",
    "print('Sentiment: ')\n",
    "print(sentiment_value(sample2))"
   ]
  },
  {
   "cell_type": "code",
   "execution_count": 36,
   "metadata": {},
   "outputs": [],
   "source": [
    "for i in range(0,20000):\n",
    "    all_sent_values.append(sentiment_value(all_reviews[i]))"
   ]
  },
  {
   "cell_type": "code",
   "execution_count": 37,
   "metadata": {},
   "outputs": [
    {
     "data": {
      "text/plain": [
       "20000"
      ]
     },
     "execution_count": 37,
     "metadata": {},
     "output_type": "execute_result"
    }
   ],
   "source": [
    "len(all_sent_values)"
   ]
  },
  {
   "cell_type": "code",
   "execution_count": 38,
   "metadata": {},
   "outputs": [],
   "source": [
    "# we are doing sentimental analysis on first 20000 rows as data is too large"
   ]
  },
  {
   "cell_type": "code",
   "execution_count": 40,
   "metadata": {},
   "outputs": [],
   "source": [
    "temp_data = data_df[:20000]"
   ]
  },
  {
   "cell_type": "code",
   "execution_count": 42,
   "metadata": {},
   "outputs": [
    {
     "data": {
      "text/plain": [
       "(20000, 6)"
      ]
     },
     "execution_count": 42,
     "metadata": {},
     "output_type": "execute_result"
    }
   ],
   "source": [
    "temp_data.shape"
   ]
  },
  {
   "cell_type": "code",
   "execution_count": 49,
   "metadata": {},
   "outputs": [],
   "source": [
    "# code for sentimental analysis -- assigning sentiment\n",
    "SENTIMENT=[]\n",
    "SENTIMENT_VALUE = []\n",
    "for i in range(0,20000):\n",
    "    s = all_sent_values[i]\n",
    "    if (s >= 0.5 and s <= 1):\n",
    "        SENTIMENT.append('very_positive')\n",
    "        SENTIMENT_VALUE.append(5)\n",
    "    elif (s > 0 and s < 0.5):\n",
    "        SENTIMENT.append('positive')\n",
    "        SENTIMENT_VALUE.append(4)\n",
    "    elif (s == 0):\n",
    "        SENTIMENT.append('nuetral')\n",
    "        SENTIMENT_VALUE.append(3)\n",
    "    elif (s < 0 and s > -0.5):\n",
    "        SENTIMENT.append('negitive')\n",
    "        SENTIMENT_VALUE.append(2)\n",
    "    else:\n",
    "        SENTIMENT.append('very_negitive')\n",
    "        SENTIMENT_VALUE.append(1)"
   ]
  },
  {
   "cell_type": "code",
   "execution_count": 52,
   "metadata": {},
   "outputs": [
    {
     "name": "stderr",
     "output_type": "stream",
     "text": [
      "c:\\users\\dell\\appdata\\local\\programs\\python\\python36\\lib\\site-packages\\ipykernel_launcher.py:1: SettingWithCopyWarning: \n",
      "A value is trying to be set on a copy of a slice from a DataFrame.\n",
      "Try using .loc[row_indexer,col_indexer] = value instead\n",
      "\n",
      "See the caveats in the documentation: http://pandas.pydata.org/pandas-docs/stable/indexing.html#indexing-view-versus-copy\n",
      "  \"\"\"Entry point for launching an IPython kernel.\n",
      "c:\\users\\dell\\appdata\\local\\programs\\python\\python36\\lib\\site-packages\\ipykernel_launcher.py:2: SettingWithCopyWarning: \n",
      "A value is trying to be set on a copy of a slice from a DataFrame.\n",
      "Try using .loc[row_indexer,col_indexer] = value instead\n",
      "\n",
      "See the caveats in the documentation: http://pandas.pydata.org/pandas-docs/stable/indexing.html#indexing-view-versus-copy\n",
      "  \n"
     ]
    }
   ],
   "source": [
    "temp_data['SENTIMENT'] = SENTIMENT\n",
    "temp_data['SENTIMENT_VALUE'] = SENTIMENT_VALUE"
   ]
  },
  {
   "cell_type": "code",
   "execution_count": 53,
   "metadata": {},
   "outputs": [
    {
     "data": {
      "text/html": [
       "<div>\n",
       "<style scoped>\n",
       "    .dataframe tbody tr th:only-of-type {\n",
       "        vertical-align: middle;\n",
       "    }\n",
       "\n",
       "    .dataframe tbody tr th {\n",
       "        vertical-align: top;\n",
       "    }\n",
       "\n",
       "    .dataframe thead th {\n",
       "        text-align: right;\n",
       "    }\n",
       "</style>\n",
       "<table border=\"1\" class=\"dataframe\">\n",
       "  <thead>\n",
       "    <tr style=\"text-align: right;\">\n",
       "      <th></th>\n",
       "      <th>Product Name</th>\n",
       "      <th>Brand Name</th>\n",
       "      <th>Price</th>\n",
       "      <th>Rating</th>\n",
       "      <th>Reviews</th>\n",
       "      <th>Review Votes</th>\n",
       "      <th>SENTIMENT</th>\n",
       "      <th>SENTIMENT_VALUE</th>\n",
       "    </tr>\n",
       "  </thead>\n",
       "  <tbody>\n",
       "    <tr>\n",
       "      <th>0</th>\n",
       "      <td>Apple - Iphone 5c A1532 Verizon 16 GB Cell Pho...</td>\n",
       "      <td>Apple</td>\n",
       "      <td>33.00</td>\n",
       "      <td>5</td>\n",
       "      <td>The iphone works great!</td>\n",
       "      <td>0.0</td>\n",
       "      <td>very_positive</td>\n",
       "      <td>5</td>\n",
       "    </tr>\n",
       "    <tr>\n",
       "      <th>1</th>\n",
       "      <td>Samsung Galaxy S3 SCH-I535 Verizon Phone, 16GB...</td>\n",
       "      <td>Samsung</td>\n",
       "      <td>92.50</td>\n",
       "      <td>5</td>\n",
       "      <td>좋군. Good.</td>\n",
       "      <td>0.0</td>\n",
       "      <td>positive</td>\n",
       "      <td>4</td>\n",
       "    </tr>\n",
       "    <tr>\n",
       "      <th>2</th>\n",
       "      <td>Indigi® Unlocked Android 4.4 KK 3G SmartPhone ...</td>\n",
       "      <td>Indigi</td>\n",
       "      <td>109.92</td>\n",
       "      <td>5</td>\n",
       "      <td>My daughter love the phone</td>\n",
       "      <td>0.0</td>\n",
       "      <td>very_positive</td>\n",
       "      <td>5</td>\n",
       "    </tr>\n",
       "    <tr>\n",
       "      <th>3</th>\n",
       "      <td>LG Google Nexus 5 D821 16GB Factory Unlocked (...</td>\n",
       "      <td>LG</td>\n",
       "      <td>385.00</td>\n",
       "      <td>5</td>\n",
       "      <td>Is an excelent phone!!</td>\n",
       "      <td>0.0</td>\n",
       "      <td>nuetral</td>\n",
       "      <td>3</td>\n",
       "    </tr>\n",
       "    <tr>\n",
       "      <th>4</th>\n",
       "      <td>LG G3 Beat D722J 8GB Unlocked GSM Quad-Core An...</td>\n",
       "      <td>LG</td>\n",
       "      <td>69.99</td>\n",
       "      <td>4</td>\n",
       "      <td>very nice fone</td>\n",
       "      <td>0.0</td>\n",
       "      <td>very_positive</td>\n",
       "      <td>5</td>\n",
       "    </tr>\n",
       "    <tr>\n",
       "      <th>5</th>\n",
       "      <td>BLU Dash C Music-US GSM - Unlocked Cell Phone ...</td>\n",
       "      <td>BLU</td>\n",
       "      <td>54.99</td>\n",
       "      <td>4</td>\n",
       "      <td>Traveled to the Caribbean with this phone it w...</td>\n",
       "      <td>0.0</td>\n",
       "      <td>positive</td>\n",
       "      <td>4</td>\n",
       "    </tr>\n",
       "    <tr>\n",
       "      <th>6</th>\n",
       "      <td>Samsung Galaxy Note GT-N7000 Unlocked Cellphon...</td>\n",
       "      <td>Samsung</td>\n",
       "      <td>274.44</td>\n",
       "      <td>5</td>\n",
       "      <td>Totally and utterly thrilled with my purchase....</td>\n",
       "      <td>1.0</td>\n",
       "      <td>very_positive</td>\n",
       "      <td>5</td>\n",
       "    </tr>\n",
       "    <tr>\n",
       "      <th>7</th>\n",
       "      <td>Samsung Galaxy S7 Unlocked PhoneDual Sim Facto...</td>\n",
       "      <td>Samsung</td>\n",
       "      <td>679.99</td>\n",
       "      <td>5</td>\n",
       "      <td>Good!~~</td>\n",
       "      <td>0.0</td>\n",
       "      <td>nuetral</td>\n",
       "      <td>3</td>\n",
       "    </tr>\n",
       "    <tr>\n",
       "      <th>8</th>\n",
       "      <td>BLU Life Pure XL Full HD, 16MP, 2.2GHz Quad Co...</td>\n",
       "      <td>BLU</td>\n",
       "      <td>307.00</td>\n",
       "      <td>5</td>\n",
       "      <td>Loving it, gets a bit hot with heavy usage</td>\n",
       "      <td>0.0</td>\n",
       "      <td>very_positive</td>\n",
       "      <td>5</td>\n",
       "    </tr>\n",
       "    <tr>\n",
       "      <th>9</th>\n",
       "      <td>BLU Tank II T193 Unlocked GSM Dual-SIM Cell Ph...</td>\n",
       "      <td>BLU</td>\n",
       "      <td>17.94</td>\n",
       "      <td>3</td>\n",
       "      <td>This phone is functional but has few of the fe...</td>\n",
       "      <td>0.0</td>\n",
       "      <td>very_negitive</td>\n",
       "      <td>1</td>\n",
       "    </tr>\n",
       "  </tbody>\n",
       "</table>\n",
       "</div>"
      ],
      "text/plain": [
       "                                        Product Name Brand Name   Price  \\\n",
       "0  Apple - Iphone 5c A1532 Verizon 16 GB Cell Pho...      Apple   33.00   \n",
       "1  Samsung Galaxy S3 SCH-I535 Verizon Phone, 16GB...    Samsung   92.50   \n",
       "2  Indigi® Unlocked Android 4.4 KK 3G SmartPhone ...     Indigi  109.92   \n",
       "3  LG Google Nexus 5 D821 16GB Factory Unlocked (...         LG  385.00   \n",
       "4  LG G3 Beat D722J 8GB Unlocked GSM Quad-Core An...         LG   69.99   \n",
       "5  BLU Dash C Music-US GSM - Unlocked Cell Phone ...        BLU   54.99   \n",
       "6  Samsung Galaxy Note GT-N7000 Unlocked Cellphon...    Samsung  274.44   \n",
       "7  Samsung Galaxy S7 Unlocked PhoneDual Sim Facto...    Samsung  679.99   \n",
       "8  BLU Life Pure XL Full HD, 16MP, 2.2GHz Quad Co...        BLU  307.00   \n",
       "9  BLU Tank II T193 Unlocked GSM Dual-SIM Cell Ph...        BLU   17.94   \n",
       "\n",
       "   Rating                                            Reviews  Review Votes  \\\n",
       "0       5                            The iphone works great!           0.0   \n",
       "1       5                                          좋군. Good.           0.0   \n",
       "2       5                         My daughter love the phone           0.0   \n",
       "3       5                             Is an excelent phone!!           0.0   \n",
       "4       4                                     very nice fone           0.0   \n",
       "5       4  Traveled to the Caribbean with this phone it w...           0.0   \n",
       "6       5  Totally and utterly thrilled with my purchase....           1.0   \n",
       "7       5                                            Good!~~           0.0   \n",
       "8       5         Loving it, gets a bit hot with heavy usage           0.0   \n",
       "9       3  This phone is functional but has few of the fe...           0.0   \n",
       "\n",
       "       SENTIMENT  SENTIMENT_VALUE  \n",
       "0  very_positive                5  \n",
       "1       positive                4  \n",
       "2  very_positive                5  \n",
       "3        nuetral                3  \n",
       "4  very_positive                5  \n",
       "5       positive                4  \n",
       "6  very_positive                5  \n",
       "7        nuetral                3  \n",
       "8  very_positive                5  \n",
       "9  very_negitive                1  "
      ]
     },
     "execution_count": 53,
     "metadata": {},
     "output_type": "execute_result"
    }
   ],
   "source": [
    "temp_data.head(10)"
   ]
  },
  {
   "cell_type": "code",
   "execution_count": 54,
   "metadata": {},
   "outputs": [],
   "source": [
    "# finding accuracy\n",
    "diff = 0\n",
    "for i in range(0,20000):\n",
    "    if (abs(temp_data['SENTIMENT_VALUE'][i] - temp_data['Rating'][i]) > 1):\n",
    "        diff += 1"
   ]
  },
  {
   "cell_type": "code",
   "execution_count": 55,
   "metadata": {},
   "outputs": [
    {
     "data": {
      "text/plain": [
       "4752"
      ]
     },
     "execution_count": 55,
     "metadata": {},
     "output_type": "execute_result"
    }
   ],
   "source": [
    "diff"
   ]
  },
  {
   "cell_type": "code",
   "execution_count": 56,
   "metadata": {},
   "outputs": [
    {
     "data": {
      "text/plain": [
       "(20000, 8)"
      ]
     },
     "execution_count": 56,
     "metadata": {},
     "output_type": "execute_result"
    }
   ],
   "source": [
    "temp_data.shape"
   ]
  },
  {
   "cell_type": "code",
   "execution_count": 57,
   "metadata": {},
   "outputs": [],
   "source": [
    "accuracy = ((temp_data.shape[0] - diff) / temp_data.shape[0]) * 100"
   ]
  },
  {
   "cell_type": "code",
   "execution_count": 58,
   "metadata": {},
   "outputs": [
    {
     "data": {
      "text/plain": [
       "76.24"
      ]
     },
     "execution_count": 58,
     "metadata": {},
     "output_type": "execute_result"
    }
   ],
   "source": [
    "accuracy"
   ]
  },
  {
   "cell_type": "code",
   "execution_count": null,
   "metadata": {},
   "outputs": [],
   "source": []
  }
 ],
 "metadata": {
  "kernelspec": {
   "display_name": "Python 3",
   "language": "python",
   "name": "python3"
  },
  "language_info": {
   "codemirror_mode": {
    "name": "ipython",
    "version": 3
   },
   "file_extension": ".py",
   "mimetype": "text/x-python",
   "name": "python",
   "nbconvert_exporter": "python",
   "pygments_lexer": "ipython3",
   "version": "3.6.7"
  }
 },
 "nbformat": 4,
 "nbformat_minor": 2
}
